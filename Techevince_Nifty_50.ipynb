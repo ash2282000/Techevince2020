{
 "cells": [
  {
   "cell_type": "markdown",
   "metadata": {},
   "source": [
    "# Importing libs"
   ]
  },
  {
   "cell_type": "code",
   "execution_count": 1,
   "metadata": {},
   "outputs": [],
   "source": [
    "import pandas as pd\n",
    "import numpy as np\n",
    "import matplotlib.pyplot as plt\n",
    "import seaborn as sns\n",
    "import pandas as pd\n",
    "from pandas_datareader import data as pdr\n",
    "from datetime import datetime\n",
    "import statsmodels.api as sm"
   ]
  },
  {
   "cell_type": "code",
   "execution_count": 2,
   "metadata": {},
   "outputs": [],
   "source": [
    "from pypfopt.efficient_frontier import EfficientFrontier\n",
    "from pypfopt import risk_models\n",
    "from pypfopt import expected_returns"
   ]
  },
  {
   "cell_type": "code",
   "execution_count": 3,
   "metadata": {},
   "outputs": [],
   "source": [
    "hub = pd.read_csv(\"ind_nifty50list (1).csv\",index_col=0)\n",
    "tickers=[]\n",
    "for i in range(len(hub)):\n",
    "    tickers.append(hub['Symbol'][i] + str(\".NS\"))"
   ]
  },
  {
   "cell_type": "code",
   "execution_count": null,
   "metadata": {},
   "outputs": [],
   "source": [
    "start= datetime(2015,1,1)\n",
    "end = datetime.today()\n",
    "\n",
    "ohlc_daily  = {}\n",
    "\n",
    "for i in range(len(tickers)):\n",
    "    ohlc_daily[tickers[i]] = pdr.get_data_yahoo(tickers[i],start = start , end = end)"
   ]
  },
  {
   "cell_type": "code",
   "execution_count": 144,
   "metadata": {},
   "outputs": [],
   "source": [
    "def optimal_weights(df):\n",
    "    mu = expected_returns.mean_historical_return(df)\n",
    "    S = risk_models.sample_cov(df)\n",
    "    ef = EfficientFrontier(mu, S,weight_bounds=(0, 1))\n",
    "    raw_weights = ef.max_sharpe()\n",
    "    raw_weights = list(raw_weights.values())\n",
    "    weights = np.array(raw_weights)\n",
    "    return weights"
   ]
  },
  {
   "cell_type": "code",
   "execution_count": 9,
   "metadata": {},
   "outputs": [],
   "source": [
    "def portfolio_returns(weights,df):\n",
    "    portfolio = pd.DataFrame()\n",
    "    portfolio['ret'] = np.sum(weights*df,axis=1)\n",
    "    return portfolio"
   ]
  },
  {
   "cell_type": "code",
   "execution_count": 98,
   "metadata": {},
   "outputs": [],
   "source": [
    "def benchmark_performance(start,end):\n",
    "    NIFTY = pdr.get_data_yahoo('^NSEI',start = start, end = end)\n",
    "    benchmark = pd.DataFrame()    \n",
    "    benchmark['ret'] = (NIFTY['Adj Close'] - NIFTY['Adj Close'].shift(1))/ NIFTY['Adj Close'].shift(1)\n",
    "#     benchmark['ret'] = benchmark['ret'].resample('M').mean()\n",
    "\n",
    "    benchmark_portfolio = performance_analysis(benchmark,window=3,rf=0.025,leverage=1)\n",
    "    return benchmark_portfolio,NIFTY"
   ]
  },
  {
   "cell_type": "code",
   "execution_count": 136,
   "metadata": {},
   "outputs": [],
   "source": [
    "def performance_analysis(df,window,rf,leverage):    \n",
    "    \n",
    "    df['cum_return'] = (1+df['ret']*leverage).cumprod()\n",
    "    Cumm_Ret = (df['cum_return'][-1]-1)\n",
    "    \n",
    "    n = len(df)/(12)   \n",
    "    CAGR = ((df[\"cum_return\"][-1])**(1/n) - 1)\n",
    "    \n",
    "    df['rolling_volatility'] = df['ret'].rolling(window).std()\n",
    "    volatility =  df['ret'].std()*np.sqrt(12)\n",
    "    \n",
    "    df['rolling_sharpe'] = df['ret'].rolling(window).mean()/df['ret'].rolling(window).std()*np.sqrt(window)\n",
    "    sr = (CAGR - rf)/volatility\n",
    "    \n",
    "    df[\"cum_roll_max\"] = df[\"cum_return\"].cummax()\n",
    "    df[\"drawdown\"] = df[\"cum_roll_max\"] - df[\"cum_return\"]\n",
    "    df[\"drawdown_pct\"] = df[\"drawdown\"]/df[\"cum_roll_max\"]\n",
    "    max_dd = df[\"drawdown_pct\"].max()\n",
    "    \n",
    "    df[\"Year\"] = df.index.map(lambda x: x.year)\n",
    "    df[\"Month\"] = df.index.map(lambda x: x.strftime(\"%b\"))\n",
    "    pt = df.pivot_table(index=\"Month\",columns=\"Year\",values=\"ret\", aggfunc=\"sum\").fillna(0)\n",
    "    months = [\"Jan\", \"Feb\", \"Mar\", \"Apr\", \"May\", \"Jun\", \"Jul\", \"Aug\", \"Sep\", \"Oct\", \"Nov\", \"Dec\"]\n",
    "    pt = pt.reindex(months)    \n",
    "    sns.heatmap(pt, annot=True, cmap=\"RdYlGn\")\n",
    "    \n",
    "    performance_df = pd.DataFrame([Cumm_Ret*100,CAGR*100,volatility,sr,max_dd*100],index=[\"Cumm_Return\",\"Annual_Return\",\"Volatility\",\"Sharpe Ratio\",\"Max Drawdown\"])      \n",
    "    print(performance_df)\n",
    "\n",
    "    return df"
   ]
  },
  {
   "cell_type": "code",
   "execution_count": null,
   "metadata": {},
   "outputs": [],
   "source": [
    "NIFTY_50_perf,NIFTY_50 = benchmark_performance(start=datetime(2015,6,30),end=datetime.today())\n",
    "NIFTY_50_perf['cum_return'].plot(figsize=(10,8),grid=True)"
   ]
  },
  {
   "cell_type": "code",
   "execution_count": null,
   "metadata": {},
   "outputs": [],
   "source": [
    "ohlc_monthly = {}\n",
    "for ticker in tickers:\n",
    "    ohlc_monthly[ticker]= ohlc_daily[ticker]['Adj Close'].resample('M').mean()\n",
    "\n",
    "monthly_database = pd.DataFrame()\n",
    "for ticker in tickers:\n",
    "    monthly_database = pd.concat([monthly_database,ohlc_monthly[ticker]],axis=1)\n",
    "monthly_database.columns= tickers\n",
    "\n",
    "monthly_database_ret = monthly_database.pct_change()\n",
    "monthly_database_ret.dropna(inplace=True)\n",
    "monthly_database= monthly_database.drop(monthly_database.index[0])\n"
   ]
  },
  {
   "cell_type": "code",
   "execution_count": null,
   "metadata": {},
   "outputs": [],
   "source": [
    "def Dynamic_Portfolio_Optimizer(df,df_ret):\n",
    "    dynamic_portfolio = []\n",
    "    for i in range(4,len(df)):\n",
    "        weights = optimal_weights(monthly_database[i-4:i])\n",
    "        test_portfolio = portfolio_returns(weights,df_ret[i:i+1])\n",
    "        dynamic_portfolio.append(test_portfolio['ret'])\n",
    "#         print(i,dynamic_portfolio)\n",
    "    return dynamic_portfolio"
   ]
  },
  {
   "cell_type": "code",
   "execution_count": null,
   "metadata": {},
   "outputs": [],
   "source": [
    "Dynamic_portfolcio = Dynamic_Portfolio_Optimizer(df=monthly_database,df_ret=monthly_database_ret)\n",
    "Dynamic_portfolio_arr = np.array(Dynamic_portfolio)\n",
    "Dynamic_portfolio_df = pd.DataFrame(Dynamic_portfolio_arr)\n",
    "\n",
    "Dynamic_portfolio_df.columns = ['ret']\n",
    "Dynamic_portfolio_df['date'] = pd.date_range(start=datetime(2015,6,30), periods=len(Dynamic_portfolio_df), freq='M ')\n",
    "Dynamic_portfolio_df = Dynamic_portfolio_df.set_index('date')"
   ]
  },
  {
   "cell_type": "code",
   "execution_count": null,
   "metadata": {},
   "outputs": [],
   "source": [
    "Dynamic_portfolio_perf = performance_analysis(df=Dynamic_portfolio_df,window=3,rf=0.25,leverage=1)\n",
    "Dynamic_portfolio_perf['cum_return'].plot(figsize=(10,8),grid=True)"
   ]
  },
  {
   "cell_type": "code",
   "execution_count": null,
   "metadata": {},
   "outputs": [],
   "source": []
  },
  {
   "cell_type": "markdown",
   "metadata": {},
   "source": [
    "# CAPM Model"
   ]
  },
  {
   "cell_type": "code",
   "execution_count": 128,
   "metadata": {},
   "outputs": [
    {
     "name": "stdout",
     "output_type": "stream",
     "text": [
      "                            OLS Regression Results                            \n",
      "==============================================================================\n",
      "Dep. Variable:              Adj Close   R-squared:                       0.159\n",
      "Model:                            OLS   Adj. R-squared:                  0.144\n",
      "Method:                 Least Squares   F-statistic:                     10.39\n",
      "Date:                Fri, 13 Mar 2020   Prob (F-statistic):            0.00213\n",
      "Time:                        21:36:56   Log-Likelihood:                 265.14\n",
      "No. Observations:                  57   AIC:                            -526.3\n",
      "Df Residuals:                      55   BIC:                            -522.2\n",
      "Df Model:                           1                                         \n",
      "Covariance Type:            nonrobust                                         \n",
      "==============================================================================\n",
      "                 coef    std err          t      P>|t|      [0.025      0.975]\n",
      "------------------------------------------------------------------------------\n",
      "const         -0.0002      0.000     -0.659      0.513      -0.001       0.000\n",
      "ret            0.0196      0.006      3.224      0.002       0.007       0.032\n",
      "==============================================================================\n",
      "Omnibus:                       30.895   Durbin-Watson:                   1.260\n",
      "Prob(Omnibus):                  0.000   Jarque-Bera (JB):               87.091\n",
      "Skew:                          -1.503   Prob(JB):                     1.23e-19\n",
      "Kurtosis:                       8.257   Cond. No.                         19.6\n",
      "==============================================================================\n",
      "\n",
      "Warnings:\n",
      "[1] Standard Errors assume that the covariance matrix of the errors is correctly specified.\n"
     ]
    }
   ],
   "source": [
    "X = Dynamic_portfolio_df['ret']\n",
    "X = X.drop(X.index[0])\n",
    "y1 = pdr.get_data_yahoo('^NSEI',start = datetime(2015,6,30), end = datetime.today())  \n",
    "y = y1['Adj Close'].pct_change()\n",
    "y = y.resample('M').mean()\n",
    "y = y.drop(y.index[0])\n",
    "\n",
    "# Add a constant to the independent value\n",
    "X1 = sm.add_constant(X)\n",
    "\n",
    "# make regression model \n",
    "model = sm.OLS(y, X1)\n",
    "\n",
    "# fit model and print results\n",
    "results = model.fit()\n",
    "print(results.summary())"
   ]
  },
  {
   "cell_type": "code",
   "execution_count": 127,
   "metadata": {},
   "outputs": [
    {
     "name": "stdout",
     "output_type": "stream",
     "text": [
      "57 57\n"
     ]
    }
   ],
   "source": [
    "print(len(X),len(y))"
   ]
  },
  {
   "cell_type": "code",
   "execution_count": 126,
   "metadata": {},
   "outputs": [
    {
     "data": {
      "text/plain": [
       "Date\n",
       "2015-07-31    0.000882\n",
       "2015-08-31   -0.003115\n",
       "2015-09-30   -0.000063\n",
       "2015-10-31    0.000754\n",
       "2015-11-30   -0.000879\n",
       "2015-12-31    0.000093\n",
       "2016-01-31   -0.002531\n",
       "2016-02-29   -0.003683\n",
       "2016-03-31    0.005177\n",
       "2016-04-30    0.000841\n",
       "2016-05-31    0.001803\n",
       "2016-06-30    0.000735\n",
       "2016-07-31    0.002091\n",
       "2016-08-31    0.000829\n",
       "2016-09-30   -0.000973\n",
       "2016-10-31    0.000201\n",
       "2016-11-30   -0.002269\n",
       "2016-12-31   -0.000182\n",
       "2017-01-31    0.002156\n",
       "2017-02-28    0.001937\n",
       "2017-03-31    0.001499\n",
       "2017-04-30    0.000797\n",
       "2017-05-31    0.001541\n",
       "2017-06-30   -0.000493\n",
       "2017-07-31    0.002717\n",
       "2017-08-31   -0.000733\n",
       "2017-09-30   -0.000605\n",
       "2017-10-31    0.002732\n",
       "2017-11-30   -0.000464\n",
       "2017-12-31    0.001485\n",
       "2018-01-31    0.002210\n",
       "2018-02-28   -0.002575\n",
       "2018-03-31   -0.001897\n",
       "2018-04-30    0.002878\n",
       "2018-05-31    0.000006\n",
       "2018-06-30   -0.000080\n",
       "2018-07-31    0.002660\n",
       "2018-08-31    0.001355\n",
       "2018-09-30   -0.003648\n",
       "2018-10-31   -0.002324\n",
       "2018-11-30    0.002333\n",
       "2018-12-31   -0.000021\n",
       "2019-01-31   -0.000109\n",
       "2019-02-28   -0.000167\n",
       "2019-03-31    0.003892\n",
       "2019-04-30    0.000828\n",
       "2019-05-31    0.000732\n",
       "2019-06-30   -0.000567\n",
       "2019-07-31   -0.002518\n",
       "2019-08-31   -0.000374\n",
       "2019-09-30    0.002244\n",
       "2019-10-31    0.001850\n",
       "2019-11-30    0.000760\n",
       "2019-12-31    0.000457\n",
       "2020-01-31   -0.000716\n",
       "2020-02-29   -0.003366\n",
       "2020-03-31   -0.012436\n",
       "Freq: M, Name: Adj Close, dtype: float64"
      ]
     },
     "execution_count": 126,
     "metadata": {},
     "output_type": "execute_result"
    }
   ],
   "source": [
    "y"
   ]
  },
  {
   "cell_type": "code",
   "execution_count": null,
   "metadata": {},
   "outputs": [],
   "source": []
  }
 ],
 "metadata": {
  "kernelspec": {
   "display_name": "Python 3",
   "language": "python",
   "name": "python3"
  },
  "language_info": {
   "codemirror_mode": {
    "name": "ipython",
    "version": 3
   },
   "file_extension": ".py",
   "mimetype": "text/x-python",
   "name": "python",
   "nbconvert_exporter": "python",
   "pygments_lexer": "ipython3",
   "version": "3.7.3"
  }
 },
 "nbformat": 4,
 "nbformat_minor": 2
}
